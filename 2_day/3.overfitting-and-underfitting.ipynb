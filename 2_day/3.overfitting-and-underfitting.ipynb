{
 "cells": [
  {
   "cell_type": "code",
   "execution_count": 216,
   "metadata": {},
   "outputs": [
    {
     "ename": "MemoryError",
     "evalue": "Unable to allocate 1.86 GiB for an array with shape (25000, 10000) and data type float64",
     "output_type": "error",
     "traceback": [
      "\u001b[1;31m---------------------------------------------------------------------------\u001b[0m",
      "\u001b[1;31mMemoryError\u001b[0m                               Traceback (most recent call last)",
      "\u001b[1;32m<ipython-input-216-596d01bacb08>\u001b[0m in \u001b[0;36m<module>\u001b[1;34m\u001b[0m\n\u001b[0;32m     12\u001b[0m \u001b[1;33m\u001b[0m\u001b[0m\n\u001b[0;32m     13\u001b[0m \u001b[1;31m# 훈련 데이터를 벡터로 변환합니다\u001b[0m\u001b[1;33m\u001b[0m\u001b[1;33m\u001b[0m\u001b[1;33m\u001b[0m\u001b[0m\n\u001b[1;32m---> 14\u001b[1;33m \u001b[0mx_train\u001b[0m \u001b[1;33m=\u001b[0m \u001b[0mvectorize_sequences\u001b[0m\u001b[1;33m(\u001b[0m\u001b[0mtrain_data\u001b[0m\u001b[1;33m)\u001b[0m\u001b[1;33m\u001b[0m\u001b[1;33m\u001b[0m\u001b[0m\n\u001b[0m\u001b[0;32m     15\u001b[0m \u001b[1;33m\u001b[0m\u001b[0m\n\u001b[0;32m     16\u001b[0m \u001b[1;31m# 테스트 데이터를 벡터로 변환합니다\u001b[0m\u001b[1;33m\u001b[0m\u001b[1;33m\u001b[0m\u001b[1;33m\u001b[0m\u001b[0m\n",
      "\u001b[1;32m<ipython-input-216-596d01bacb08>\u001b[0m in \u001b[0;36mvectorize_sequences\u001b[1;34m(sequences, dimension)\u001b[0m\n\u001b[0;32m      6\u001b[0m \u001b[1;32mdef\u001b[0m \u001b[0mvectorize_sequences\u001b[0m\u001b[1;33m(\u001b[0m\u001b[0msequences\u001b[0m\u001b[1;33m,\u001b[0m \u001b[0mdimension\u001b[0m\u001b[1;33m=\u001b[0m\u001b[1;36m10000\u001b[0m\u001b[1;33m)\u001b[0m\u001b[1;33m:\u001b[0m\u001b[1;33m\u001b[0m\u001b[1;33m\u001b[0m\u001b[0m\n\u001b[0;32m      7\u001b[0m     \u001b[1;31m# 크기가 (len(sequences), dimension))이고 모든 원소가 0인 행렬을 만듭니다\u001b[0m\u001b[1;33m\u001b[0m\u001b[1;33m\u001b[0m\u001b[1;33m\u001b[0m\u001b[0m\n\u001b[1;32m----> 8\u001b[1;33m     \u001b[0mresults\u001b[0m \u001b[1;33m=\u001b[0m \u001b[0mnp\u001b[0m\u001b[1;33m.\u001b[0m\u001b[0mzeros\u001b[0m\u001b[1;33m(\u001b[0m\u001b[1;33m(\u001b[0m\u001b[0mlen\u001b[0m\u001b[1;33m(\u001b[0m\u001b[0msequences\u001b[0m\u001b[1;33m)\u001b[0m\u001b[1;33m,\u001b[0m \u001b[0mdimension\u001b[0m\u001b[1;33m)\u001b[0m\u001b[1;33m)\u001b[0m\u001b[1;33m\u001b[0m\u001b[1;33m\u001b[0m\u001b[0m\n\u001b[0m\u001b[0;32m      9\u001b[0m     \u001b[1;32mfor\u001b[0m \u001b[0mi\u001b[0m\u001b[1;33m,\u001b[0m \u001b[0msequence\u001b[0m \u001b[1;32min\u001b[0m \u001b[0menumerate\u001b[0m\u001b[1;33m(\u001b[0m\u001b[0msequences\u001b[0m\u001b[1;33m)\u001b[0m\u001b[1;33m:\u001b[0m\u001b[1;33m\u001b[0m\u001b[1;33m\u001b[0m\u001b[0m\n\u001b[0;32m     10\u001b[0m         \u001b[0mresults\u001b[0m\u001b[1;33m[\u001b[0m\u001b[0mi\u001b[0m\u001b[1;33m,\u001b[0m \u001b[0msequence\u001b[0m\u001b[1;33m]\u001b[0m \u001b[1;33m=\u001b[0m \u001b[1;36m1.\u001b[0m  \u001b[1;31m# results[i]에서 특정 인덱스의 위치를 1로 만듭니다\u001b[0m\u001b[1;33m\u001b[0m\u001b[1;33m\u001b[0m\u001b[0m\n",
      "\u001b[1;31mMemoryError\u001b[0m: Unable to allocate 1.86 GiB for an array with shape (25000, 10000) and data type float64"
     ]
    }
   ],
   "source": [
    "from keras.datasets import imdb\n",
    "import numpy as np\n",
    "\n",
    "(train_data, train_labels), (test_data, test_labels) = imdb.load_data(num_words=10000)\n",
    "\n",
    "def vectorize_sequences(sequences, dimension=10000):\n",
    "    # 크기가 (len(sequences), dimension))이고 모든 원소가 0인 행렬을 만듭니다\n",
    "    results = np.zeros((len(sequences), dimension))\n",
    "    for i, sequence in enumerate(sequences):\n",
    "        results[i, sequence] = 1.  # results[i]에서 특정 인덱스의 위치를 1로 만듭니다\n",
    "    return results\n",
    "\n",
    "# 훈련 데이터를 벡터로 변환합니다\n",
    "x_train = vectorize_sequences(train_data)\n",
    "\n",
    "# 테스트 데이터를 벡터로 변환합니다\n",
    "x_test = vectorize_sequences(test_data)\n",
    "# 레이블을 벡터로 변환합니다\n",
    "y_train = np.asarray(train_labels).astype('float32')\n",
    "y_test = np.asarray(test_labels).astype('float32')"
   ]
  },
  {
   "cell_type": "code",
   "execution_count": 59,
   "metadata": {},
   "outputs": [],
   "source": [
    "from keras import models\n",
    "from keras import layers\n",
    "\n",
    "original_model = models.Sequential()\n",
    "original_model.add(layers.Dense(16, activation='relu', input_shape=(10000,)))\n",
    "original_model.add(layers.Dense(16, activation='relu'))\n",
    "original_model.add(layers.Dense(1, activation='sigmoid'))\n",
    "\n",
    "original_model.compile(optimizer='rmsprop',\n",
    "                       loss='binary_crossentropy',\n",
    "                       metrics=['acc'])"
   ]
  },
  {
   "cell_type": "code",
   "execution_count": 60,
   "metadata": {},
   "outputs": [],
   "source": [
    "smaller_model = models.Sequential()\n",
    "smaller_model.add(layers.Dense(6, activation='relu', input_shape=(10000,)))\n",
    "smaller_model.add(layers.Dense(6, activation='relu'))\n",
    "smaller_model.add(layers.Dense(1, activation='sigmoid'))\n",
    "\n",
    "smaller_model.compile(optimizer='rmsprop',\n",
    "                      loss='binary_crossentropy',\n",
    "                      metrics=['acc'])"
   ]
  },
  {
   "cell_type": "code",
   "execution_count": 63,
   "metadata": {},
   "outputs": [
    {
     "name": "stdout",
     "output_type": "stream",
     "text": [
      "Train on 25000 samples, validate on 25000 samples\n",
      "Epoch 1/20\n",
      "25000/25000 [==============================] - 5s 188us/step - loss: 0.2492 - acc: 0.9102 - val_loss: 0.3042 - val_acc: 0.8758\n",
      "Epoch 2/20\n",
      "25000/25000 [==============================] - 5s 187us/step - loss: 0.1934 - acc: 0.9320 - val_loss: 0.2841 - val_acc: 0.8870\n",
      "Epoch 3/20\n",
      "25000/25000 [==============================] - 5s 189us/step - loss: 0.1637 - acc: 0.9421 - val_loss: 0.2997 - val_acc: 0.8828\n",
      "Epoch 4/20\n",
      "25000/25000 [==============================] - 5s 191us/step - loss: 0.1388 - acc: 0.9505 - val_loss: 0.3180 - val_acc: 0.8796\n",
      "Epoch 5/20\n",
      "25000/25000 [==============================] - 5s 188us/step - loss: 0.1233 - acc: 0.9574 - val_loss: 0.3408 - val_acc: 0.8762\n",
      "Epoch 6/20\n",
      "25000/25000 [==============================] - 5s 191us/step - loss: 0.1070 - acc: 0.9636 - val_loss: 0.3843 - val_acc: 0.8667\n",
      "Epoch 7/20\n",
      "25000/25000 [==============================] - 5s 187us/step - loss: 0.0953 - acc: 0.9689 - val_loss: 0.3934 - val_acc: 0.8686\n",
      "Epoch 8/20\n",
      "25000/25000 [==============================] - 5s 193us/step - loss: 0.0839 - acc: 0.9708 - val_loss: 0.4545 - val_acc: 0.8590\n",
      "Epoch 9/20\n",
      "25000/25000 [==============================] - 5s 190us/step - loss: 0.0743 - acc: 0.9761 - val_loss: 0.4728 - val_acc: 0.8596\n",
      "Epoch 10/20\n",
      "25000/25000 [==============================] - 5s 189us/step - loss: 0.0643 - acc: 0.9796 - val_loss: 0.4842 - val_acc: 0.8606\n",
      "Epoch 11/20\n",
      "25000/25000 [==============================] - 5s 189us/step - loss: 0.0566 - acc: 0.9831 - val_loss: 0.5167 - val_acc: 0.8600\n",
      "Epoch 12/20\n",
      "25000/25000 [==============================] - 5s 195us/step - loss: 0.0475 - acc: 0.9857 - val_loss: 0.5701 - val_acc: 0.8523\n",
      "Epoch 13/20\n",
      "25000/25000 [==============================] - 5s 189us/step - loss: 0.0414 - acc: 0.9882 - val_loss: 0.6081 - val_acc: 0.8546\n",
      "Epoch 14/20\n",
      "25000/25000 [==============================] - 5s 190us/step - loss: 0.0365 - acc: 0.9896 - val_loss: 0.6162 - val_acc: 0.8536\n",
      "Epoch 15/20\n",
      "25000/25000 [==============================] - 5s 189us/step - loss: 0.0302 - acc: 0.9924 - val_loss: 0.7844 - val_acc: 0.8407\n",
      "Epoch 16/20\n",
      "25000/25000 [==============================] - 5s 191us/step - loss: 0.0259 - acc: 0.9930 - val_loss: 0.7283 - val_acc: 0.8513\n",
      "Epoch 17/20\n",
      "25000/25000 [==============================] - 5s 187us/step - loss: 0.0229 - acc: 0.9944 - val_loss: 0.7784 - val_acc: 0.8434\n",
      "Epoch 18/20\n",
      "25000/25000 [==============================] - 5s 190us/step - loss: 0.0185 - acc: 0.9956 - val_loss: 0.7701 - val_acc: 0.8504\n",
      "Epoch 19/20\n",
      "25000/25000 [==============================] - 5s 188us/step - loss: 0.0154 - acc: 0.9962 - val_loss: 0.8237 - val_acc: 0.8480\n",
      "Epoch 20/20\n",
      "25000/25000 [==============================] - 5s 189us/step - loss: 0.0138 - acc: 0.9968 - val_loss: 0.8699 - val_acc: 0.8490\n"
     ]
    }
   ],
   "source": [
    "original_hist = original_model.fit(x_train, y_train,\n",
    "                                   epochs=20,\n",
    "                                   batch_size=512,\n",
    "                                   validation_data=(x_test, y_test))\n",
    "\n",
    "#np.set_printoptions(threshold=1000000)\n",
    "#np.set_printoptions(threshold=10000)\n",
    "#print(original_model.get_weights()[0].shape)\n",
    "#print(original_model.get_weights())"
   ]
  },
  {
   "cell_type": "code",
   "execution_count": 64,
   "metadata": {
    "scrolled": true
   },
   "outputs": [
    {
     "name": "stdout",
     "output_type": "stream",
     "text": [
      "Train on 25000 samples, validate on 25000 samples\n",
      "Epoch 1/20\n",
      "25000/25000 [==============================] - 5s 195us/step - loss: 0.0471 - acc: 0.9877 - val_loss: 0.5457 - val_acc: 0.8549\n",
      "Epoch 2/20\n",
      "25000/25000 [==============================] - 5s 191us/step - loss: 0.0428 - acc: 0.9898 - val_loss: 0.5635 - val_acc: 0.8548\n",
      "Epoch 3/20\n",
      "25000/25000 [==============================] - 5s 186us/step - loss: 0.0391 - acc: 0.9906 - val_loss: 0.5903 - val_acc: 0.8548\n",
      "Epoch 4/20\n",
      "25000/25000 [==============================] - 5s 185us/step - loss: 0.0349 - acc: 0.9918 - val_loss: 0.6138 - val_acc: 0.8528\n",
      "Epoch 5/20\n",
      "25000/25000 [==============================] - 5s 185us/step - loss: 0.0318 - acc: 0.9924 - val_loss: 0.6438 - val_acc: 0.8517\n",
      "Epoch 6/20\n",
      "25000/25000 [==============================] - 5s 186us/step - loss: 0.0287 - acc: 0.9937 - val_loss: 0.6725 - val_acc: 0.8498\n",
      "Epoch 7/20\n",
      "25000/25000 [==============================] - 5s 185us/step - loss: 0.0256 - acc: 0.9945 - val_loss: 0.6955 - val_acc: 0.8493\n",
      "Epoch 8/20\n",
      "25000/25000 [==============================] - 5s 184us/step - loss: 0.0232 - acc: 0.9950 - val_loss: 0.7223 - val_acc: 0.8479\n",
      "Epoch 9/20\n",
      "25000/25000 [==============================] - 5s 186us/step - loss: 0.0198 - acc: 0.9962 - val_loss: 0.7601 - val_acc: 0.8463\n",
      "Epoch 10/20\n",
      "25000/25000 [==============================] - 5s 185us/step - loss: 0.0178 - acc: 0.9966 - val_loss: 0.7970 - val_acc: 0.8442\n",
      "Epoch 11/20\n",
      "25000/25000 [==============================] - 5s 186us/step - loss: 0.0157 - acc: 0.9968 - val_loss: 0.8244 - val_acc: 0.8444\n",
      "Epoch 12/20\n",
      "25000/25000 [==============================] - 5s 186us/step - loss: 0.0142 - acc: 0.9972 - val_loss: 0.8593 - val_acc: 0.8431\n",
      "Epoch 13/20\n",
      "25000/25000 [==============================] - 5s 186us/step - loss: 0.0114 - acc: 0.9981 - val_loss: 0.9002 - val_acc: 0.8420\n",
      "Epoch 14/20\n",
      "25000/25000 [==============================] - 5s 185us/step - loss: 0.0111 - acc: 0.9981 - val_loss: 0.9172 - val_acc: 0.8426\n",
      "Epoch 15/20\n",
      "25000/25000 [==============================] - 5s 184us/step - loss: 0.0088 - acc: 0.9988 - val_loss: 0.9421 - val_acc: 0.8422\n",
      "Epoch 16/20\n",
      "25000/25000 [==============================] - 5s 184us/step - loss: 0.0079 - acc: 0.9992 - val_loss: 0.9782 - val_acc: 0.8414\n",
      "Epoch 17/20\n",
      "25000/25000 [==============================] - 5s 185us/step - loss: 0.0066 - acc: 0.9994 - val_loss: 1.0196 - val_acc: 0.8404\n",
      "Epoch 18/20\n",
      "25000/25000 [==============================] - 5s 192us/step - loss: 0.0064 - acc: 0.9993 - val_loss: 1.0512 - val_acc: 0.8402\n",
      "Epoch 19/20\n",
      "25000/25000 [==============================] - 5s 189us/step - loss: 0.0047 - acc: 0.9996 - val_loss: 1.0826 - val_acc: 0.8402\n",
      "Epoch 20/20\n",
      "25000/25000 [==============================] - 5s 187us/step - loss: 0.0045 - acc: 0.9996 - val_loss: 1.1248 - val_acc: 0.8394\n"
     ]
    }
   ],
   "source": [
    "smaller_model_hist = smaller_model.fit(x_train, y_train,\n",
    "                                       epochs=20,\n",
    "                                       batch_size=512,\n",
    "                                       validation_data=(x_test, y_test))"
   ]
  },
  {
   "cell_type": "code",
   "execution_count": 65,
   "metadata": {},
   "outputs": [],
   "source": [
    "epochs = range(1, 21)\n",
    "original_val_loss = original_hist.history['val_loss']\n",
    "smaller_model_val_loss = smaller_model_hist.history['val_loss']"
   ]
  },
  {
   "cell_type": "code",
   "execution_count": 66,
   "metadata": {},
   "outputs": [],
   "source": [
    "import matplotlib.pyplot as plt"
   ]
  },
  {
   "cell_type": "code",
   "execution_count": 67,
   "metadata": {},
   "outputs": [
    {
     "data": {
      "image/png": "[encoded data removed]",
      "text/plain": [
       "<Figure size 432x288 with 1 Axes>"
      ]
     },
     "metadata": {
      "needs_background": "light"
     },
     "output_type": "display_data"
    }
   ],
   "source": [
    "# ‘b+’는 파란색 덧셈 기호을 의미합니다\n",
    "plt.plot(epochs, original_val_loss, 'b+', label='Original model')\n",
    "# ‘bo’는 파란색 점을 의미합니다\n",
    "plt.plot(epochs, smaller_model_val_loss, 'bo', label='Smaller model')\n",
    "plt.xlabel('Epochs')\n",
    "plt.ylabel('Validation loss')\n",
    "plt.legend()\n",
    "\n",
    "plt.show()"
   ]
  },
  {
   "cell_type": "code",
   "execution_count": 68,
   "metadata": {},
   "outputs": [],
   "source": [
    "bigger_model = models.Sequential()\n",
    "bigger_model.add(layers.Dense(1024, activation='relu', input_shape=(10000,)))\n",
    "bigger_model.add(layers.Dense(1024, activation='relu'))\n",
    "bigger_model.add(layers.Dense(1, activation='sigmoid'))\n",
    "\n",
    "bigger_model.compile(optimizer='rmsprop',\n",
    "                     loss='binary_crossentropy',\n",
    "                     metrics=['acc'])"
   ]
  },
  {
   "cell_type": "code",
   "execution_count": 69,
   "metadata": {
    "scrolled": true
   },
   "outputs": [
    {
     "name": "stdout",
     "output_type": "stream",
     "text": [
      "Train on 25000 samples, validate on 25000 samples\n",
      "Epoch 1/20\n",
      "25000/25000 [==============================] - 16s 659us/step - loss: 0.5355 - acc: 0.7980 - val_loss: 0.2820 - val_acc: 0.8866\n",
      "Epoch 2/20\n",
      "25000/25000 [==============================] - 16s 646us/step - loss: 0.2156 - acc: 0.9170 - val_loss: 0.3140 - val_acc: 0.8735\n",
      "Epoch 3/20\n",
      "25000/25000 [==============================] - 17s 685us/step - loss: 0.1250 - acc: 0.9536 - val_loss: 0.2910 - val_acc: 0.8864\n",
      "Epoch 4/20\n",
      "25000/25000 [==============================] - 17s 668us/step - loss: 0.0878 - acc: 0.9824 - val_loss: 0.4096 - val_acc: 0.8833\n",
      "Epoch 5/20\n",
      "25000/25000 [==============================] - 17s 664us/step - loss: 0.0840 - acc: 0.9876 - val_loss: 0.4895 - val_acc: 0.8628\n",
      "Epoch 6/20\n",
      "25000/25000 [==============================] - 16s 646us/step - loss: 0.0022 - acc: 0.9999 - val_loss: 0.7984 - val_acc: 0.8690\n",
      "Epoch 7/20\n",
      "25000/25000 [==============================] - 16s 642us/step - loss: 0.0730 - acc: 0.9867 - val_loss: 0.6430 - val_acc: 0.8829\n",
      "Epoch 8/20\n",
      "25000/25000 [==============================] - 17s 670us/step - loss: 0.0746 - acc: 0.9931 - val_loss: 2.9009 - val_acc: 0.7112\n",
      "Epoch 9/20\n",
      "25000/25000 [==============================] - 17s 695us/step - loss: 0.0220 - acc: 0.9961 - val_loss: 0.7196 - val_acc: 0.8830\n",
      "Epoch 10/20\n",
      "25000/25000 [==============================] - 18s 715us/step - loss: 3.2886e-05 - acc: 1.0000 - val_loss: 0.8435 - val_acc: 0.8846\n",
      "Epoch 11/20\n",
      "25000/25000 [==============================] - 18s 714us/step - loss: 5.9735e-06 - acc: 1.0000 - val_loss: 1.0039 - val_acc: 0.8852\n",
      "Epoch 12/20\n",
      "25000/25000 [==============================] - 18s 703us/step - loss: 8.1680e-07 - acc: 1.0000 - val_loss: 1.1318 - val_acc: 0.8850\n",
      "Epoch 13/20\n",
      "25000/25000 [==============================] - 18s 713us/step - loss: 1.2750e-07 - acc: 1.0000 - val_loss: 1.2696 - val_acc: 0.8845\n",
      "Epoch 14/20\n",
      "25000/25000 [==============================] - 18s 701us/step - loss: 3.1802e-08 - acc: 1.0000 - val_loss: 1.3551 - val_acc: 0.8850\n",
      "Epoch 15/20\n",
      "25000/25000 [==============================] - 17s 676us/step - loss: 1.4221e-08 - acc: 1.0000 - val_loss: 1.4031 - val_acc: 0.8847\n",
      "Epoch 16/20\n",
      "25000/25000 [==============================] - 17s 664us/step - loss: 8.9488e-09 - acc: 1.0000 - val_loss: 1.4329 - val_acc: 0.8849\n",
      "Epoch 17/20\n",
      "25000/25000 [==============================] - 17s 679us/step - loss: 6.5533e-09 - acc: 1.0000 - val_loss: 1.4545 - val_acc: 0.8849\n",
      "Epoch 18/20\n",
      "25000/25000 [==============================] - 17s 681us/step - loss: 5.2014e-09 - acc: 1.0000 - val_loss: 1.4711 - val_acc: 0.8849\n",
      "Epoch 19/20\n",
      "25000/25000 [==============================] - 17s 691us/step - loss: 4.3124e-09 - acc: 1.0000 - val_loss: 1.4847 - val_acc: 0.8848\n",
      "Epoch 20/20\n",
      "25000/25000 [==============================] - 17s 680us/step - loss: 3.6878e-09 - acc: 1.0000 - val_loss: 1.4961 - val_acc: 0.8848\n"
     ]
    }
   ],
   "source": [
    "bigger_model_hist = bigger_model.fit(x_train, y_train,\n",
    "                                     epochs=20,\n",
    "                                     batch_size=512,\n",
    "                                     validation_data=(x_test, y_test))"
   ]
  },
  {
   "cell_type": "code",
   "execution_count": 11,
   "metadata": {},
   "outputs": [
    {
     "data": {
      "image/png": "[encoded data removed]",
      "text/plain": [
       "<Figure size 432x288 with 1 Axes>"
      ]
     },
     "metadata": {
      "needs_background": "light"
     },
     "output_type": "display_data"
    }
   ],
   "source": [
    "bigger_model_val_loss = bigger_model_hist.history['val_loss']\n",
    "\n",
    "plt.plot(epochs, original_val_loss, 'b+', label='Original model')\n",
    "plt.plot(epochs, bigger_model_val_loss, 'bo', label='Bigger model')\n",
    "plt.xlabel('Epochs')\n",
    "plt.ylabel('Validation loss')\n",
    "plt.legend()\n",
    "\n",
    "plt.show()"
   ]
  },
  {
   "cell_type": "code",
   "execution_count": 12,
   "metadata": {},
   "outputs": [
    {
     "data": {
      "image/png": "[encoded data removed]",
      "text/plain": [
       "<Figure size 432x288 with 1 Axes>"
      ]
     },
     "metadata": {
      "needs_background": "light"
     },
     "output_type": "display_data"
    }
   ],
   "source": [
    "original_train_loss = original_hist.history['loss']\n",
    "bigger_model_train_loss = bigger_model_hist.history['loss']\n",
    "\n",
    "plt.plot(epochs, original_train_loss, 'b+', label='Original model')\n",
    "plt.plot(epochs, bigger_model_train_loss, 'bo', label='Bigger model')\n",
    "plt.xlabel('Epochs')\n",
    "plt.ylabel('Training loss')\n",
    "plt.legend()\n",
    "\n",
    "plt.show()"
   ]
  },
  {
   "cell_type": "code",
   "execution_count": 13,
   "metadata": {},
   "outputs": [],
   "source": [
    "from keras import regularizers\n",
    "\n",
    "l2_model = models.Sequential()\n",
    "l2_model.add(layers.Dense(16, kernel_regularizer=regularizers.l2(0.001),\n",
    "                          activation='relu', input_shape=(10000,)))\n",
    "l2_model.add(layers.Dense(16, kernel_regularizer=regularizers.l2(0.001),\n",
    "                          activation='relu'))\n",
    "l2_model.add(layers.Dense(1, activation='sigmoid'))"
   ]
  },
  {
   "cell_type": "code",
   "execution_count": 14,
   "metadata": {},
   "outputs": [],
   "source": [
    "l2_model.compile(optimizer='rmsprop',\n",
    "                 loss='binary_crossentropy',\n",
    "                 metrics=['acc'])"
   ]
  },
  {
   "cell_type": "code",
   "execution_count": 15,
   "metadata": {},
   "outputs": [
    {
     "name": "stdout",
     "output_type": "stream",
     "text": [
      "Train on 25000 samples, validate on 25000 samples\n",
      "Epoch 1/20\n",
      "25000/25000 [==============================] - 5s 210us/step - loss: 0.5039 - acc: 0.8134 - val_loss: 0.3878 - val_acc: 0.8794\n",
      "Epoch 2/20\n",
      "25000/25000 [==============================] - 5s 208us/step - loss: 0.3199 - acc: 0.9068 - val_loss: 0.3599 - val_acc: 0.8754\n",
      "Epoch 3/20\n",
      "25000/25000 [==============================] - 5s 199us/step - loss: 0.2739 - acc: 0.9198 - val_loss: 0.3361 - val_acc: 0.8861\n",
      "Epoch 4/20\n",
      "25000/25000 [==============================] - 5s 201us/step - loss: 0.2533 - acc: 0.9272 - val_loss: 0.3335 - val_acc: 0.8878\n",
      "Epoch 5/20\n",
      "25000/25000 [==============================] - 5s 197us/step - loss: 0.2411 - acc: 0.9309 - val_loss: 0.3487 - val_acc: 0.8811\n",
      "Epoch 6/20\n",
      "25000/25000 [==============================] - 5s 200us/step - loss: 0.2335 - acc: 0.9358 - val_loss: 0.3936 - val_acc: 0.8666\n",
      "Epoch 7/20\n",
      "25000/25000 [==============================] - 5s 202us/step - loss: 0.2268 - acc: 0.9388 - val_loss: 0.3695 - val_acc: 0.8744\n",
      "Epoch 8/20\n",
      "25000/25000 [==============================] - 5s 198us/step - loss: 0.2204 - acc: 0.9394 - val_loss: 0.3818 - val_acc: 0.8722\n",
      "Epoch 9/20\n",
      "25000/25000 [==============================] - 5s 199us/step - loss: 0.2172 - acc: 0.9421 - val_loss: 0.3747 - val_acc: 0.8760\n",
      "Epoch 10/20\n",
      "25000/25000 [==============================] - 5s 204us/step - loss: 0.2134 - acc: 0.9429 - val_loss: 0.4606 - val_acc: 0.8466\n",
      "Epoch 11/20\n",
      "25000/25000 [==============================] - 5s 199us/step - loss: 0.2102 - acc: 0.9447 - val_loss: 0.3816 - val_acc: 0.8754\n",
      "Epoch 12/20\n",
      "25000/25000 [==============================] - 5s 199us/step - loss: 0.2060 - acc: 0.9469 - val_loss: 0.4038 - val_acc: 0.8708\n",
      "Epoch 13/20\n",
      "25000/25000 [==============================] - 5s 197us/step - loss: 0.2055 - acc: 0.9467 - val_loss: 0.4530 - val_acc: 0.8578\n",
      "Epoch 14/20\n",
      "25000/25000 [==============================] - 5s 201us/step - loss: 0.1968 - acc: 0.9516 - val_loss: 0.3944 - val_acc: 0.8729\n",
      "Epoch 15/20\n",
      "25000/25000 [==============================] - 5s 213us/step - loss: 0.1996 - acc: 0.9478 - val_loss: 0.3993 - val_acc: 0.8738\n",
      "Epoch 16/20\n",
      "25000/25000 [==============================] - 5s 199us/step - loss: 0.1951 - acc: 0.9519 - val_loss: 0.4349 - val_acc: 0.8610\n",
      "Epoch 17/20\n",
      "25000/25000 [==============================] - 5s 198us/step - loss: 0.1955 - acc: 0.9515 - val_loss: 0.4403 - val_acc: 0.8601\n",
      "Epoch 18/20\n",
      "25000/25000 [==============================] - 5s 196us/step - loss: 0.1877 - acc: 0.9549 - val_loss: 0.4691 - val_acc: 0.8524\n",
      "Epoch 19/20\n",
      "25000/25000 [==============================] - 5s 200us/step - loss: 0.1881 - acc: 0.9534 - val_loss: 0.4248 - val_acc: 0.8686\n",
      "Epoch 20/20\n",
      "25000/25000 [==============================] - 5s 198us/step - loss: 0.1823 - acc: 0.9562 - val_loss: 0.4346 - val_acc: 0.8665\n"
     ]
    }
   ],
   "source": [
    "l2_model_hist = l2_model.fit(x_train, y_train,\n",
    "                             epochs=20,\n",
    "                             batch_size=512,\n",
    "                             validation_data=(x_test, y_test))"
   ]
  },
  {
   "cell_type": "code",
   "execution_count": 16,
   "metadata": {},
   "outputs": [
    {
     "data": {
      "image/png": "[encoded data removed]",
      "text/plain": [
       "<Figure size 432x288 with 1 Axes>"
      ]
     },
     "metadata": {
      "needs_background": "light"
     },
     "output_type": "display_data"
    }
   ],
   "source": [
    "l2_model_val_loss = l2_model_hist.history['val_loss']\n",
    "\n",
    "plt.plot(epochs, original_val_loss, 'b+', label='Original model')\n",
    "plt.plot(epochs, l2_model_val_loss, 'bo', label='L2-regularized model')\n",
    "plt.xlabel('Epochs')\n",
    "plt.ylabel('Validation loss')\n",
    "plt.legend()\n",
    "\n",
    "plt.show()"
   ]
  },
  {
   "cell_type": "code",
   "execution_count": 17,
   "metadata": {},
   "outputs": [
    {
     "data": {
      "text/plain": [
       "<keras.regularizers.L1L2 at 0x1991223cd48>"
      ]
     },
     "execution_count": 17,
     "metadata": {},
     "output_type": "execute_result"
    }
   ],
   "source": [
    "from keras import regularizers\n",
    "\n",
    "# L1 규제\n",
    "regularizers.l1(0.001)\n",
    "\n",
    "# L1과 L2 규제 병행\n",
    "regularizers.l1_l2(l1=0.001, l2=0.001)"
   ]
  },
  {
   "cell_type": "code",
   "execution_count": 18,
   "metadata": {},
   "outputs": [],
   "source": [
    "l1_model = models.Sequential()\n",
    "l1_model.add(layers.Dense(16, kernel_regularizer=regularizers.l1(0.0001),\n",
    "                          activation='relu', input_shape=(10000,)))\n",
    "l1_model.add(layers.Dense(16, kernel_regularizer=regularizers.l1(0.0001),\n",
    "                          activation='relu'))\n",
    "l1_model.add(layers.Dense(1, activation='sigmoid'))"
   ]
  },
  {
   "cell_type": "code",
   "execution_count": 19,
   "metadata": {},
   "outputs": [],
   "source": [
    "l1_model.compile(optimizer='rmsprop',\n",
    "                 loss='binary_crossentropy',\n",
    "                 metrics=['acc'])"
   ]
  },
  {
   "cell_type": "code",
   "execution_count": 20,
   "metadata": {},
   "outputs": [
    {
     "name": "stdout",
     "output_type": "stream",
     "text": [
      "Train on 25000 samples, validate on 25000 samples\n",
      "Epoch 1/20\n",
      "25000/25000 [==============================] - 5s 206us/step - loss: 0.5551 - acc: 0.8216 - val_loss: 0.4244 - val_acc: 0.8807\n",
      "Epoch 2/20\n",
      "25000/25000 [==============================] - 6s 224us/step - loss: 0.3749 - acc: 0.8957 - val_loss: 0.3919 - val_acc: 0.8784\n",
      "Epoch 3/20\n",
      "25000/25000 [==============================] - 5s 215us/step - loss: 0.3346 - acc: 0.9080 - val_loss: 0.3843 - val_acc: 0.8766\n",
      "Epoch 4/20\n",
      "25000/25000 [==============================] - 5s 210us/step - loss: 0.3198 - acc: 0.9098 - val_loss: 0.3661 - val_acc: 0.8849\n",
      "Epoch 5/20\n",
      "25000/25000 [==============================] - 5s 205us/step - loss: 0.3108 - acc: 0.9158 - val_loss: 0.3731 - val_acc: 0.8824\n",
      "Epoch 6/20\n",
      "25000/25000 [==============================] - 5s 203us/step - loss: 0.3024 - acc: 0.9168 - val_loss: 0.3811 - val_acc: 0.8790\n",
      "Epoch 7/20\n",
      "25000/25000 [==============================] - 5s 202us/step - loss: 0.2941 - acc: 0.9219 - val_loss: 0.3720 - val_acc: 0.8839\n",
      "Epoch 8/20\n",
      "25000/25000 [==============================] - 5s 203us/step - loss: 0.2880 - acc: 0.9238 - val_loss: 0.3842 - val_acc: 0.8793\n",
      "Epoch 9/20\n",
      "25000/25000 [==============================] - 5s 203us/step - loss: 0.2833 - acc: 0.9253 - val_loss: 0.3821 - val_acc: 0.8792\n",
      "Epoch 10/20\n",
      "25000/25000 [==============================] - 5s 204us/step - loss: 0.2787 - acc: 0.9274 - val_loss: 0.3819 - val_acc: 0.8807\n",
      "Epoch 11/20\n",
      "25000/25000 [==============================] - 5s 203us/step - loss: 0.2712 - acc: 0.9305 - val_loss: 0.3992 - val_acc: 0.8750\n",
      "Epoch 12/20\n",
      "25000/25000 [==============================] - 5s 202us/step - loss: 0.2701 - acc: 0.9296 - val_loss: 0.3968 - val_acc: 0.8756\n",
      "Epoch 13/20\n",
      "25000/25000 [==============================] - 5s 205us/step - loss: 0.2600 - acc: 0.9366 - val_loss: 0.3982 - val_acc: 0.8755\n",
      "Epoch 14/20\n",
      "25000/25000 [==============================] - 5s 202us/step - loss: 0.2574 - acc: 0.9370 - val_loss: 0.4265 - val_acc: 0.8692\n",
      "Epoch 15/20\n",
      "25000/25000 [==============================] - 5s 200us/step - loss: 0.2552 - acc: 0.9357 - val_loss: 0.3948 - val_acc: 0.8792\n",
      "Epoch 16/20\n",
      "25000/25000 [==============================] - 5s 204us/step - loss: 0.2451 - acc: 0.9432 - val_loss: 0.4036 - val_acc: 0.8755\n",
      "Epoch 17/20\n",
      "25000/25000 [==============================] - 5s 210us/step - loss: 0.2425 - acc: 0.9423 - val_loss: 0.4115 - val_acc: 0.8730\n",
      "Epoch 18/20\n",
      "25000/25000 [==============================] - 5s 204us/step - loss: 0.2370 - acc: 0.9458 - val_loss: 0.4113 - val_acc: 0.8744\n",
      "Epoch 19/20\n",
      "25000/25000 [==============================] - 5s 204us/step - loss: 0.2333 - acc: 0.9462 - val_loss: 0.4200 - val_acc: 0.8716\n",
      "Epoch 20/20\n",
      "25000/25000 [==============================] - 5s 204us/step - loss: 0.2317 - acc: 0.9463 - val_loss: 0.4108 - val_acc: 0.8753\n"
     ]
    }
   ],
   "source": [
    "l1_model_hist = l1_model.fit(x_train, y_train,\n",
    "                             epochs=20,\n",
    "                             batch_size=512,\n",
    "                             validation_data=(x_test, y_test))"
   ]
  },
  {
   "cell_type": "code",
   "execution_count": 21,
   "metadata": {},
   "outputs": [
    {
     "data": {
      "image/png": "[encoded data removed]",
      "text/plain": [
       "<Figure size 432x288 with 1 Axes>"
      ]
     },
     "metadata": {
      "needs_background": "light"
     },
     "output_type": "display_data"
    }
   ],
   "source": [
    "l1_model_val_loss = l1_model_hist.history['val_loss']\n",
    "\n",
    "plt.plot(epochs, original_val_loss, 'b+', label='Original model')\n",
    "plt.plot(epochs, l1_model_val_loss, 'bo', label='L1-regularized model')\n",
    "plt.xlabel('Epochs')\n",
    "plt.ylabel('Validation loss')\n",
    "plt.legend()\n",
    "\n",
    "plt.show()"
   ]
  },
  {
   "cell_type": "code",
   "execution_count": 22,
   "metadata": {},
   "outputs": [],
   "source": [
    "l1l2_model = models.Sequential()\n",
    "l1l2_model.add(layers.Dense(16, kernel_regularizer=regularizers.l1_l2(l1=0.0001, l2=0.0001),\n",
    "                            activation='relu', input_shape=(10000,)))\n",
    "l1l2_model.add(layers.Dense(16, kernel_regularizer=regularizers.l1_l2(l1=0.0001, l2=0.0001),\n",
    "                            activation='relu'))\n",
    "l1l2_model.add(layers.Dense(1, activation='sigmoid'))"
   ]
  },
  {
   "cell_type": "code",
   "execution_count": 23,
   "metadata": {},
   "outputs": [],
   "source": [
    "l1l2_model.compile(optimizer='rmsprop',\n",
    "                   loss='binary_crossentropy',\n",
    "                   metrics=['acc'])"
   ]
  },
  {
   "cell_type": "code",
   "execution_count": 24,
   "metadata": {},
   "outputs": [
    {
     "name": "stdout",
     "output_type": "stream",
     "text": [
      "Train on 25000 samples, validate on 25000 samples\n",
      "Epoch 1/20\n",
      "25000/25000 [==============================] - 5s 217us/step - loss: 0.5746 - acc: 0.8096 - val_loss: 0.4449 - val_acc: 0.8602\n",
      "Epoch 2/20\n",
      "25000/25000 [==============================] - 5s 206us/step - loss: 0.3753 - acc: 0.8948 - val_loss: 0.3697 - val_acc: 0.8875\n",
      "Epoch 3/20\n",
      "25000/25000 [==============================] - 5s 207us/step - loss: 0.3263 - acc: 0.9081 - val_loss: 0.3686 - val_acc: 0.8812\n",
      "Epoch 4/20\n",
      "25000/25000 [==============================] - 5s 203us/step - loss: 0.3029 - acc: 0.9152 - val_loss: 0.3506 - val_acc: 0.8886\n",
      "Epoch 5/20\n",
      "25000/25000 [==============================] - 5s 205us/step - loss: 0.2888 - acc: 0.9204 - val_loss: 0.3713 - val_acc: 0.8783\n",
      "Epoch 6/20\n",
      "25000/25000 [==============================] - 5s 204us/step - loss: 0.2785 - acc: 0.9238 - val_loss: 0.3564 - val_acc: 0.8863\n",
      "Epoch 7/20\n",
      "25000/25000 [==============================] - 5s 211us/step - loss: 0.2739 - acc: 0.9256 - val_loss: 0.3703 - val_acc: 0.8818\n",
      "Epoch 8/20\n",
      "25000/25000 [==============================] - 5s 201us/step - loss: 0.2670 - acc: 0.9285 - val_loss: 0.3674 - val_acc: 0.8838\n",
      "Epoch 9/20\n",
      "25000/25000 [==============================] - 5s 198us/step - loss: 0.2622 - acc: 0.9305 - val_loss: 0.3856 - val_acc: 0.8777\n",
      "Epoch 10/20\n",
      "25000/25000 [==============================] - 5s 199us/step - loss: 0.2568 - acc: 0.9346 - val_loss: 0.3723 - val_acc: 0.8828\n",
      "Epoch 11/20\n",
      "25000/25000 [==============================] - 5s 200us/step - loss: 0.2499 - acc: 0.9365 - val_loss: 0.3856 - val_acc: 0.8764\n",
      "Epoch 12/20\n",
      "25000/25000 [==============================] - 5s 206us/step - loss: 0.2477 - acc: 0.9371 - val_loss: 0.3805 - val_acc: 0.8810\n",
      "Epoch 13/20\n",
      "25000/25000 [==============================] - 5s 205us/step - loss: 0.2427 - acc: 0.9390 - val_loss: 0.3953 - val_acc: 0.8763\n",
      "Epoch 14/20\n",
      "25000/25000 [==============================] - 5s 204us/step - loss: 0.2386 - acc: 0.9401 - val_loss: 0.4325 - val_acc: 0.8678\n",
      "Epoch 15/20\n",
      "25000/25000 [==============================] - 5s 202us/step - loss: 0.2352 - acc: 0.9408 - val_loss: 0.3964 - val_acc: 0.8747\n",
      "Epoch 16/20\n",
      "25000/25000 [==============================] - 5s 200us/step - loss: 0.2276 - acc: 0.9462 - val_loss: 0.4194 - val_acc: 0.8679\n",
      "Epoch 17/20\n",
      "25000/25000 [==============================] - 5s 202us/step - loss: 0.2273 - acc: 0.9450 - val_loss: 0.4363 - val_acc: 0.8677\n",
      "Epoch 18/20\n",
      "25000/25000 [==============================] - 5s 204us/step - loss: 0.2184 - acc: 0.9490 - val_loss: 0.4100 - val_acc: 0.8722\n",
      "Epoch 19/20\n",
      "25000/25000 [==============================] - 5s 201us/step - loss: 0.2164 - acc: 0.9483 - val_loss: 0.4109 - val_acc: 0.8742\n",
      "Epoch 20/20\n",
      "25000/25000 [==============================] - 5s 206us/step - loss: 0.2122 - acc: 0.9513 - val_loss: 0.4319 - val_acc: 0.8690\n"
     ]
    }
   ],
   "source": [
    "l1l2_model_hist = l1l2_model.fit(x_train, y_train,\n",
    "                                 epochs=20,\n",
    "                                 batch_size=512,\n",
    "                                 validation_data=(x_test, y_test))"
   ]
  },
  {
   "cell_type": "code",
   "execution_count": 25,
   "metadata": {},
   "outputs": [
    {
     "data": {
      "image/png": "[encoded data removed]",
      "text/plain": [
       "<Figure size 432x288 with 1 Axes>"
      ]
     },
     "metadata": {
      "needs_background": "light"
     },
     "output_type": "display_data"
    }
   ],
   "source": [
    "l1l2_model_val_loss = l1l2_model_hist.history['val_loss']\n",
    "\n",
    "plt.plot(epochs, original_val_loss, 'b+', label='Original model')\n",
    "plt.plot(epochs, l1l2_model_val_loss, 'bo', label='L1,L2-regularized model')\n",
    "plt.xlabel('Epochs')\n",
    "plt.ylabel('Validation loss')\n",
    "plt.legend()\n",
    "\n",
    "plt.show()"
   ]
  },
  {
   "cell_type": "code",
   "execution_count": 27,
   "metadata": {},
   "outputs": [],
   "source": [
    "dpt_model = models.Sequential()\n",
    "dpt_model.add(layers.Dense(16, activation='relu', input_shape=(10000,)))\n",
    "dpt_model.add(layers.Dropout(0.5))\n",
    "dpt_model.add(layers.Dense(16, activation='relu'))\n",
    "dpt_model.add(layers.Dropout(0.5))\n",
    "dpt_model.add(layers.Dense(1, activation='sigmoid'))\n",
    "\n",
    "dpt_model.compile(optimizer='rmsprop',\n",
    "                  loss='binary_crossentropy',\n",
    "                  metrics=['acc'])"
   ]
  },
  {
   "cell_type": "code",
   "execution_count": 28,
   "metadata": {},
   "outputs": [
    {
     "name": "stdout",
     "output_type": "stream",
     "text": [
      "Train on 25000 samples, validate on 25000 samples\n",
      "Epoch 1/20\n",
      "25000/25000 [==============================] - 5s 203us/step - loss: 0.6197 - acc: 0.6831 - val_loss: 0.5428 - val_acc: 0.8226\n",
      "Epoch 2/20\n",
      "25000/25000 [==============================] - 5s 190us/step - loss: 0.5044 - acc: 0.8337 - val_loss: 0.4483 - val_acc: 0.8586\n",
      "Epoch 3/20\n",
      "25000/25000 [==============================] - 5s 183us/step - loss: 0.4243 - acc: 0.8720 - val_loss: 0.3841 - val_acc: 0.8838\n",
      "Epoch 4/20\n",
      "25000/25000 [==============================] - 5s 182us/step - loss: 0.3646 - acc: 0.8954 - val_loss: 0.3504 - val_acc: 0.8854\n",
      "Epoch 5/20\n",
      "25000/25000 [==============================] - 5s 183us/step - loss: 0.3267 - acc: 0.9111 - val_loss: 0.3411 - val_acc: 0.8862\n",
      "Epoch 6/20\n",
      "25000/25000 [==============================] - 5s 183us/step - loss: 0.2899 - acc: 0.9219 - val_loss: 0.3260 - val_acc: 0.8831\n",
      "Epoch 7/20\n",
      "25000/25000 [==============================] - 5s 183us/step - loss: 0.2673 - acc: 0.9242 - val_loss: 0.3404 - val_acc: 0.8825\n",
      "Epoch 8/20\n",
      "25000/25000 [==============================] - 5s 192us/step - loss: 0.2428 - acc: 0.9321 - val_loss: 0.3550 - val_acc: 0.8809\n",
      "Epoch 9/20\n",
      "25000/25000 [==============================] - 5s 184us/step - loss: 0.2210 - acc: 0.9394 - val_loss: 0.3825 - val_acc: 0.8774\n",
      "Epoch 10/20\n",
      "25000/25000 [==============================] - 5s 184us/step - loss: 0.2091 - acc: 0.9401 - val_loss: 0.3798 - val_acc: 0.8783\n",
      "Epoch 11/20\n",
      "25000/25000 [==============================] - 5s 184us/step - loss: 0.1939 - acc: 0.9450 - val_loss: 0.4026 - val_acc: 0.8758\n",
      "Epoch 12/20\n",
      "25000/25000 [==============================] - 5s 185us/step - loss: 0.1792 - acc: 0.9484 - val_loss: 0.4151 - val_acc: 0.8746\n",
      "Epoch 13/20\n",
      "25000/25000 [==============================] - 5s 185us/step - loss: 0.1711 - acc: 0.9524 - val_loss: 0.4513 - val_acc: 0.8739\n",
      "Epoch 14/20\n",
      "25000/25000 [==============================] - 5s 187us/step - loss: 0.1630 - acc: 0.9546 - val_loss: 0.4769 - val_acc: 0.8730\n",
      "Epoch 15/20\n",
      "25000/25000 [==============================] - 5s 186us/step - loss: 0.1546 - acc: 0.9570 - val_loss: 0.4389 - val_acc: 0.8672\n",
      "Epoch 16/20\n",
      "25000/25000 [==============================] - 5s 186us/step - loss: 0.1452 - acc: 0.9592 - val_loss: 0.4996 - val_acc: 0.8709\n",
      "Epoch 17/20\n",
      "25000/25000 [==============================] - 5s 184us/step - loss: 0.1390 - acc: 0.9620 - val_loss: 0.5011 - val_acc: 0.8685\n",
      "Epoch 18/20\n",
      "25000/25000 [==============================] - 5s 184us/step - loss: 0.1338 - acc: 0.9631 - val_loss: 0.5678 - val_acc: 0.8694\n",
      "Epoch 19/20\n",
      "25000/25000 [==============================] - 5s 184us/step - loss: 0.1234 - acc: 0.9661 - val_loss: 0.6384 - val_acc: 0.8689\n",
      "Epoch 20/20\n",
      "25000/25000 [==============================] - 5s 181us/step - loss: 0.1157 - acc: 0.9697 - val_loss: 0.6976 - val_acc: 0.8678\n"
     ]
    }
   ],
   "source": [
    "dpt_model_hist = dpt_model.fit(x_train, y_train,\n",
    "                               epochs=20,\n",
    "                               batch_size=512,\n",
    "                               validation_data=(x_test, y_test))"
   ]
  },
  {
   "cell_type": "code",
   "execution_count": 29,
   "metadata": {},
   "outputs": [
    {
     "data": {
      "image/png": "[encoded data removed]",
      "text/plain": [
       "<Figure size 432x288 with 1 Axes>"
      ]
     },
     "metadata": {
      "needs_background": "light"
     },
     "output_type": "display_data"
    }
   ],
   "source": [
    "dpt_model_val_loss = dpt_model_hist.history['val_loss']\n",
    "\n",
    "plt.plot(epochs, original_val_loss, 'b+', label='Original model')\n",
    "plt.plot(epochs, dpt_model_val_loss, 'bo', label='Dropout-regularized model')\n",
    "plt.xlabel('Epochs')\n",
    "plt.ylabel('Validation loss')\n",
    "plt.legend()\n",
    "\n",
    "plt.show()"
   ]
  },
  {
   "cell_type": "code",
   "execution_count": null,
   "metadata": {},
   "outputs": [],
   "source": []
  }
 ],
 "metadata": {
  "kernelspec": {
   "display_name": "Python 3",
   "language": "python",
   "name": "python3"
  },
  "language_info": {
   "codemirror_mode": {
    "name": "ipython",
    "version": 3
   },
   "file_extension": ".py",
   "mimetype": "text/x-python",
   "name": "python",
   "nbconvert_exporter": "python",
   "pygments_lexer": "ipython3",
   "version": "3.7.6"
  }
 },
 "nbformat": 4,
 "nbformat_minor": 4
}
